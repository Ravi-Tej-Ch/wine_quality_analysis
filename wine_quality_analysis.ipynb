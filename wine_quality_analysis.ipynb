{
 "cells": [
  {
   "cell_type": "markdown",
   "id": "dc949172",
   "metadata": {},
   "source": [
    "# Wine Quality Analysis "
   ]
  },
  {
   "cell_type": "markdown",
   "id": "24b99401",
   "metadata": {},
   "source": [
    "*Comparing different classification models to see which model gives the highest accuracy in predicting the quality of the wine. And also which features contribute the most to the wine for it to be of good quality.*"
   ]
  },
  {
   "cell_type": "markdown",
   "id": "723cfe0e",
   "metadata": {},
   "source": [
    "#### Importing relevant libraries"
   ]
  },
  {
   "cell_type": "code",
   "execution_count": 20,
   "id": "05484bb8",
   "metadata": {},
   "outputs": [],
   "source": [
    "import numpy as np\n",
    "import pandas as pd\n",
    "import matplotlib as plt\n",
    "import seaborn as sns\n",
    "import plotly.express as px\n",
    "\n",
    "import warnings\n",
    "warnings.filterwarnings('ignore')"
   ]
  },
  {
   "cell_type": "markdown",
   "id": "f5e83aea",
   "metadata": {},
   "source": [
    "#### Importing Dataset"
   ]
  },
  {
   "cell_type": "code",
   "execution_count": 21,
   "id": "82f81b87",
   "metadata": {},
   "outputs": [
    {
     "name": "stdout",
     "output_type": "stream",
     "text": [
      "Rows, columns: (1599, 12)\n"
     ]
    },
    {
     "data": {
      "text/html": [
       "<div>\n",
       "<style scoped>\n",
       "    .dataframe tbody tr th:only-of-type {\n",
       "        vertical-align: middle;\n",
       "    }\n",
       "\n",
       "    .dataframe tbody tr th {\n",
       "        vertical-align: top;\n",
       "    }\n",
       "\n",
       "    .dataframe thead th {\n",
       "        text-align: right;\n",
       "    }\n",
       "</style>\n",
       "<table border=\"1\" class=\"dataframe\">\n",
       "  <thead>\n",
       "    <tr style=\"text-align: right;\">\n",
       "      <th></th>\n",
       "      <th>fixed acidity</th>\n",
       "      <th>volatile acidity</th>\n",
       "      <th>citric acid</th>\n",
       "      <th>residual sugar</th>\n",
       "      <th>chlorides</th>\n",
       "      <th>free sulfur dioxide</th>\n",
       "      <th>total sulfur dioxide</th>\n",
       "      <th>density</th>\n",
       "      <th>pH</th>\n",
       "      <th>sulphates</th>\n",
       "      <th>alcohol</th>\n",
       "      <th>quality</th>\n",
       "    </tr>\n",
       "  </thead>\n",
       "  <tbody>\n",
       "    <tr>\n",
       "      <th>0</th>\n",
       "      <td>7.4</td>\n",
       "      <td>0.70</td>\n",
       "      <td>0.00</td>\n",
       "      <td>1.9</td>\n",
       "      <td>0.076</td>\n",
       "      <td>11.0</td>\n",
       "      <td>34.0</td>\n",
       "      <td>0.9978</td>\n",
       "      <td>3.51</td>\n",
       "      <td>0.56</td>\n",
       "      <td>9.4</td>\n",
       "      <td>5.0</td>\n",
       "    </tr>\n",
       "    <tr>\n",
       "      <th>1</th>\n",
       "      <td>7.8</td>\n",
       "      <td>0.88</td>\n",
       "      <td>0.00</td>\n",
       "      <td>2.6</td>\n",
       "      <td>0.098</td>\n",
       "      <td>25.0</td>\n",
       "      <td>67.0</td>\n",
       "      <td>0.9968</td>\n",
       "      <td>3.20</td>\n",
       "      <td>0.68</td>\n",
       "      <td>9.8</td>\n",
       "      <td>5.0</td>\n",
       "    </tr>\n",
       "    <tr>\n",
       "      <th>2</th>\n",
       "      <td>7.8</td>\n",
       "      <td>0.76</td>\n",
       "      <td>0.04</td>\n",
       "      <td>2.3</td>\n",
       "      <td>0.092</td>\n",
       "      <td>15.0</td>\n",
       "      <td>54.0</td>\n",
       "      <td>0.9970</td>\n",
       "      <td>3.26</td>\n",
       "      <td>0.65</td>\n",
       "      <td>9.8</td>\n",
       "      <td>5.0</td>\n",
       "    </tr>\n",
       "    <tr>\n",
       "      <th>3</th>\n",
       "      <td>11.2</td>\n",
       "      <td>0.28</td>\n",
       "      <td>0.56</td>\n",
       "      <td>1.9</td>\n",
       "      <td>0.075</td>\n",
       "      <td>17.0</td>\n",
       "      <td>60.0</td>\n",
       "      <td>0.9980</td>\n",
       "      <td>3.16</td>\n",
       "      <td>0.58</td>\n",
       "      <td>9.8</td>\n",
       "      <td>6.0</td>\n",
       "    </tr>\n",
       "    <tr>\n",
       "      <th>4</th>\n",
       "      <td>7.4</td>\n",
       "      <td>0.70</td>\n",
       "      <td>0.00</td>\n",
       "      <td>1.9</td>\n",
       "      <td>0.076</td>\n",
       "      <td>11.0</td>\n",
       "      <td>34.0</td>\n",
       "      <td>0.9978</td>\n",
       "      <td>3.51</td>\n",
       "      <td>0.56</td>\n",
       "      <td>9.4</td>\n",
       "      <td>5.0</td>\n",
       "    </tr>\n",
       "  </tbody>\n",
       "</table>\n",
       "</div>"
      ],
      "text/plain": [
       "   fixed acidity  volatile acidity  citric acid  residual sugar  chlorides  \\\n",
       "0            7.4              0.70         0.00             1.9      0.076   \n",
       "1            7.8              0.88         0.00             2.6      0.098   \n",
       "2            7.8              0.76         0.04             2.3      0.092   \n",
       "3           11.2              0.28         0.56             1.9      0.075   \n",
       "4            7.4              0.70         0.00             1.9      0.076   \n",
       "\n",
       "   free sulfur dioxide  total sulfur dioxide  density    pH  sulphates  \\\n",
       "0                 11.0                  34.0   0.9978  3.51       0.56   \n",
       "1                 25.0                  67.0   0.9968  3.20       0.68   \n",
       "2                 15.0                  54.0   0.9970  3.26       0.65   \n",
       "3                 17.0                  60.0   0.9980  3.16       0.58   \n",
       "4                 11.0                  34.0   0.9978  3.51       0.56   \n",
       "\n",
       "   alcohol  quality  \n",
       "0      9.4      5.0  \n",
       "1      9.8      5.0  \n",
       "2      9.8      5.0  \n",
       "3      9.8      6.0  \n",
       "4      9.4      5.0  "
      ]
     },
     "execution_count": 21,
     "metadata": {},
     "output_type": "execute_result"
    }
   ],
   "source": [
    "df = pd.read_csv(\"1767134-1729261-1613779-Red_wine__(1).csv\")\n",
    "\n",
    "print(\"Rows, columns: \" + str(df.shape))\n",
    "df.head()"
   ]
  },
  {
   "cell_type": "markdown",
   "id": "6bbced59",
   "metadata": {},
   "source": [
    "#### Checking for missing values"
   ]
  },
  {
   "cell_type": "code",
   "execution_count": 22,
   "id": "001ded96",
   "metadata": {},
   "outputs": [
    {
     "name": "stdout",
     "output_type": "stream",
     "text": [
      "fixed acidity           0\n",
      "volatile acidity        0\n",
      "citric acid             0\n",
      "residual sugar          0\n",
      "chlorides               0\n",
      "free sulfur dioxide     0\n",
      "total sulfur dioxide    1\n",
      "density                 0\n",
      "pH                      1\n",
      "sulphates               0\n",
      "alcohol                 0\n",
      "quality                 1\n",
      "dtype: int64\n"
     ]
    }
   ],
   "source": [
    "print(df.isna().sum())"
   ]
  },
  {
   "cell_type": "markdown",
   "id": "f4e5f086",
   "metadata": {},
   "source": [
    "#### Replacing the missing values with mean values"
   ]
  },
  {
   "cell_type": "code",
   "execution_count": 23,
   "id": "d7f2cfcc",
   "metadata": {},
   "outputs": [
    {
     "data": {
      "text/plain": [
       "0"
      ]
     },
     "execution_count": 23,
     "metadata": {},
     "output_type": "execute_result"
    }
   ],
   "source": [
    "for col in df.columns:\n",
    "    if df[col].isnull().sum() > 0:\n",
    "        df[col] = df[col].fillna(df[col].mean())\n",
    "\n",
    "df.isnull().sum().sum()"
   ]
  },
  {
   "cell_type": "code",
   "execution_count": 24,
   "id": "791bf312",
   "metadata": {},
   "outputs": [
    {
     "name": "stdout",
     "output_type": "stream",
     "text": [
      "fixed acidity           0\n",
      "volatile acidity        0\n",
      "citric acid             0\n",
      "residual sugar          0\n",
      "chlorides               0\n",
      "free sulfur dioxide     0\n",
      "total sulfur dioxide    0\n",
      "density                 0\n",
      "pH                      0\n",
      "sulphates               0\n",
      "alcohol                 0\n",
      "quality                 0\n",
      "dtype: int64\n"
     ]
    }
   ],
   "source": [
    "print(df.isna().sum())"
   ]
  },
  {
   "cell_type": "markdown",
   "id": "3f47408d",
   "metadata": {},
   "source": [
    "#### Lets draw histogram to see the distribution of *quality* variable"
   ]
  },
  {
   "cell_type": "code",
   "execution_count": 25,
   "id": "8667afc9",
   "metadata": {},
   "outputs": [
    {
     "data": {
      "application/vnd.plotly.v1+json": {
       "config": {
        "plotlyServerURL": "https://plot.ly"
       },
       "data": [
        {
         "alignmentgroup": "True",
         "bingroup": "x",
         "hovertemplate": "quality=%{x}<br>count=%{y}<extra></extra>",
         "legendgroup": "",
         "marker": {
          "color": "#636efa",
          "pattern": {
           "shape": ""
          }
         },
         "name": "",
         "offsetgroup": "",
         "orientation": "v",
         "showlegend": false,
         "type": "histogram",
         "x": [
          5,
          5,
          5,
          6,
          5,
          5,
          5,
          7,
          7,
          5,
          5,
          5,
          5,
          5,
          5,
          5,
          7,
          5,
          4,
          6,
          6,
          5,
          5,
          5,
          6,
          5,
          5,
          5,
          5,
          6,
          5,
          6,
          5,
          6,
          5,
          6,
          6,
          7,
          4,
          5,
          5,
          4,
          6,
          5,
          5,
          4,
          5,
          5,
          5,
          5,
          5,
          6,
          6,
          5,
          6,
          5,
          5,
          5,
          5,
          6,
          5,
          5,
          7,
          5,
          5,
          5,
          5,
          5,
          5,
          6,
          6,
          5,
          5,
          4,
          5,
          5,
          5,
          6,
          5,
          4,
          5,
          5,
          5,
          5,
          6,
          5,
          6,
          5,
          5,
          5,
          5,
          6,
          5,
          5,
          4,
          6,
          5,
          5,
          5,
          6,
          6,
          6,
          6,
          5,
          5,
          5,
          5,
          5,
          6,
          5,
          5,
          5,
          5,
          6,
          5,
          6,
          6,
          6,
          6,
          6,
          5,
          6,
          5,
          5.636420525657071,
          5,
          5,
          5,
          5,
          7,
          5,
          5,
          5,
          5,
          6,
          6,
          5,
          5,
          5,
          5,
          5,
          5,
          5,
          6,
          5,
          6,
          5,
          5,
          5,
          6,
          6,
          6,
          4,
          5,
          5,
          5,
          5,
          5,
          5,
          5,
          6,
          5,
          4,
          6,
          5,
          5,
          5,
          5,
          4,
          6,
          5,
          4,
          6,
          6,
          6,
          5,
          5,
          5,
          6,
          5,
          5,
          5,
          5,
          5,
          5,
          6,
          5,
          5,
          5,
          5,
          5,
          5,
          6,
          5,
          5,
          5,
          5,
          5,
          6,
          7,
          4,
          7,
          5,
          5,
          5,
          6,
          7,
          7,
          5,
          5,
          7,
          6,
          6,
          6,
          5,
          6,
          5,
          5,
          5,
          5,
          5,
          6,
          5,
          5,
          6,
          4,
          6,
          6,
          5,
          6,
          5,
          7,
          6,
          6,
          5,
          6,
          6,
          6,
          6,
          6,
          6,
          5,
          6,
          6,
          7,
          7,
          6,
          5,
          5,
          6,
          6,
          6,
          6,
          5,
          5,
          6,
          5,
          5,
          5,
          5,
          7,
          5,
          4,
          5,
          5,
          5,
          7,
          4,
          8,
          6,
          6,
          6,
          6,
          5,
          5,
          5,
          6,
          6,
          6,
          8,
          7,
          6,
          7,
          5,
          7,
          5,
          5,
          6,
          6,
          7,
          5,
          7,
          5,
          6,
          6,
          6,
          5,
          5,
          5,
          5,
          5,
          6,
          6,
          5,
          5,
          5,
          6,
          5,
          6,
          6,
          6,
          6,
          6,
          6,
          5,
          5,
          6,
          5,
          6,
          7,
          6,
          7,
          5,
          5,
          6,
          6,
          6,
          7,
          5,
          6,
          5,
          6,
          6,
          6,
          5,
          7,
          7,
          6,
          5,
          6,
          7,
          6,
          6,
          6,
          6,
          6,
          5,
          7,
          6,
          6,
          6,
          6,
          6,
          5,
          5,
          6,
          6,
          5,
          7,
          7,
          6,
          5,
          6,
          5,
          5,
          7,
          6,
          7,
          5,
          5,
          7,
          5,
          6,
          6,
          5,
          6,
          7,
          6,
          7,
          6,
          6,
          6,
          6,
          6,
          6,
          5,
          6,
          6,
          6,
          6,
          7,
          8,
          6,
          5,
          5,
          5,
          7,
          5,
          6,
          6,
          5,
          5,
          6,
          6,
          6,
          5,
          6,
          6,
          7,
          6,
          4,
          6,
          5,
          5,
          7,
          5,
          5,
          6,
          5,
          6,
          5,
          7,
          7,
          5,
          7,
          5,
          7,
          6,
          6,
          5,
          6,
          7,
          5,
          6,
          5,
          6,
          5,
          6,
          6,
          6,
          5,
          8,
          6,
          7,
          7,
          7,
          6,
          5,
          5,
          6,
          6,
          6,
          6,
          6,
          7,
          5,
          8,
          5,
          5,
          7,
          3,
          6,
          5,
          5,
          5,
          6,
          5,
          6,
          6,
          6,
          5,
          5,
          6,
          6,
          5,
          6,
          5,
          5,
          6,
          5,
          6,
          5,
          8,
          5,
          5,
          6,
          5,
          5,
          6,
          7,
          6,
          6,
          7,
          7,
          6,
          6,
          8,
          6,
          5,
          8,
          6,
          6,
          7,
          7,
          7,
          7,
          7,
          7,
          6,
          6,
          7,
          5,
          6,
          6,
          7,
          7,
          5,
          6,
          3,
          6,
          5,
          6,
          5,
          5,
          5,
          5,
          5,
          5,
          6,
          6,
          5,
          6,
          5,
          5,
          6,
          6,
          6,
          5,
          6,
          7,
          5,
          5,
          6,
          5,
          6,
          6,
          5,
          6,
          6,
          6,
          6,
          6,
          6,
          6,
          5,
          5,
          5,
          6,
          5,
          6,
          6,
          5,
          5,
          5,
          6,
          6,
          5,
          6,
          6,
          6,
          6,
          6,
          6,
          5,
          4,
          6,
          6,
          4,
          5,
          5,
          6,
          5,
          5,
          5,
          7,
          7,
          6,
          7,
          5,
          8,
          7,
          5,
          6,
          5,
          5,
          5,
          5,
          6,
          6,
          6,
          6,
          4,
          6,
          5,
          6,
          6,
          6,
          7,
          6,
          6,
          6,
          5,
          5,
          6,
          5,
          6,
          5,
          5,
          6,
          5,
          5,
          5,
          5,
          5,
          6,
          5,
          5,
          5,
          5,
          6,
          5,
          6,
          5,
          6,
          4,
          5,
          5,
          5,
          5,
          7,
          6,
          5,
          5,
          5,
          5,
          5,
          7,
          5,
          4,
          7,
          6,
          5,
          5,
          5,
          6,
          5,
          5,
          5,
          7,
          6,
          4,
          6,
          5,
          6,
          6,
          5,
          5,
          6,
          6,
          5,
          6,
          5,
          5,
          5,
          5,
          6,
          5,
          6,
          5,
          5,
          5,
          5,
          6,
          5,
          5,
          5,
          5,
          5,
          5,
          5,
          5,
          3,
          5,
          5,
          5,
          5,
          6,
          6,
          6,
          5,
          6,
          6,
          6,
          6,
          4,
          4,
          5,
          5,
          5,
          6,
          6,
          5,
          5,
          5,
          5,
          5,
          6,
          5,
          5,
          5,
          5,
          5,
          5,
          5,
          5,
          4,
          5,
          6,
          5,
          5,
          6,
          5,
          5,
          5,
          5,
          5,
          5,
          5,
          6,
          5,
          5,
          6,
          5,
          5,
          5,
          5,
          6,
          6,
          5,
          6,
          6,
          5,
          5,
          5,
          5,
          6,
          6,
          6,
          5,
          5,
          5,
          5,
          5,
          6,
          5,
          6,
          6,
          5,
          5,
          6,
          5,
          6,
          5,
          5,
          6,
          6,
          5,
          6,
          6,
          5,
          5,
          6,
          5,
          5,
          5,
          5,
          5,
          5,
          6,
          6,
          5,
          6,
          5,
          6,
          5,
          6,
          5,
          5,
          7,
          6,
          6,
          5,
          5,
          7,
          6,
          6,
          7,
          7,
          7,
          5,
          6,
          5,
          6,
          5,
          4,
          6,
          5,
          6,
          6,
          5,
          5,
          5,
          7,
          5,
          5,
          5,
          5,
          7,
          5,
          8,
          6,
          4,
          6,
          3,
          4,
          5,
          5,
          7,
          7,
          7,
          5,
          7,
          5,
          6,
          5,
          6,
          5,
          5,
          6,
          5,
          5,
          5,
          5,
          5,
          6,
          6,
          7,
          6,
          7,
          7,
          6,
          5,
          6,
          5,
          5,
          5,
          5,
          6,
          6,
          6,
          6,
          6,
          5,
          4,
          7,
          7,
          7,
          4,
          6,
          6,
          5,
          5,
          6,
          6,
          5,
          6,
          5,
          6,
          7,
          6,
          5,
          5,
          5,
          6,
          5,
          6,
          6,
          7,
          6,
          7,
          3,
          5,
          7,
          7,
          7,
          7,
          5,
          5,
          6,
          6,
          6,
          6,
          6,
          6,
          7,
          6,
          6,
          5,
          6,
          6,
          6,
          5,
          6,
          6,
          6,
          5,
          7,
          6,
          4,
          5,
          7,
          5,
          5,
          6,
          5,
          5,
          6,
          6,
          4,
          7,
          5,
          7,
          7,
          7,
          7,
          7,
          7,
          7,
          7,
          7,
          7,
          7,
          7,
          7,
          7,
          6,
          5,
          6,
          6,
          7,
          5,
          6,
          5,
          5,
          6,
          6,
          6,
          7,
          5,
          6,
          5,
          6,
          6,
          7,
          5,
          7,
          5,
          5,
          5,
          7,
          5,
          6,
          5,
          6,
          6,
          5,
          6,
          7,
          5,
          5,
          6,
          5,
          5,
          6,
          5,
          5,
          6,
          7,
          7,
          6,
          6,
          7,
          7,
          7,
          7,
          5,
          7,
          7,
          7,
          7,
          5,
          7,
          6,
          5,
          6,
          6,
          6,
          7,
          6,
          6,
          5,
          6,
          6,
          5,
          6,
          7,
          6,
          6,
          5,
          6,
          7,
          7,
          7,
          5,
          6,
          6,
          7,
          7,
          5,
          7,
          6,
          5,
          6,
          6,
          7,
          6,
          6,
          6,
          5,
          6,
          6,
          5,
          5,
          5,
          7,
          6,
          6,
          7,
          5,
          7,
          7,
          6,
          8,
          6,
          6,
          6,
          6,
          7,
          7,
          7,
          5,
          7,
          5,
          6,
          6,
          5,
          7,
          6,
          5,
          5,
          7,
          6,
          7,
          6,
          6,
          6,
          5,
          7,
          6,
          7,
          7,
          8,
          6,
          6,
          7,
          6,
          5,
          6,
          5,
          7,
          5,
          6,
          6,
          6,
          6,
          6,
          5,
          6,
          7,
          5,
          6,
          6,
          7,
          6,
          6,
          6,
          6,
          6,
          6,
          6,
          5,
          8,
          6,
          6,
          6,
          4,
          7,
          6,
          6,
          5,
          6,
          6,
          5,
          7,
          7,
          7,
          6,
          6,
          6,
          5,
          6,
          6,
          6,
          6,
          6,
          5,
          6,
          6,
          7,
          6,
          6,
          7,
          6,
          5,
          6,
          6,
          5,
          7,
          7,
          6,
          5,
          7,
          6,
          7,
          5,
          5,
          5,
          5,
          7,
          6,
          6,
          6,
          6,
          6,
          6,
          6,
          6,
          4,
          7,
          5,
          6,
          6,
          5,
          6,
          5,
          5,
          6,
          5,
          6,
          5,
          4,
          6,
          5,
          7,
          5,
          6,
          6,
          6,
          6,
          6,
          6,
          6,
          7,
          8,
          5,
          7,
          7,
          7,
          5,
          7,
          7,
          6,
          5,
          6,
          6,
          6,
          6,
          6,
          6,
          6,
          6,
          6,
          6,
          6,
          6,
          6,
          5,
          5,
          5,
          7,
          5,
          6,
          5,
          5,
          4,
          6,
          4,
          6,
          6,
          4,
          4,
          5,
          5,
          6,
          5,
          6,
          5,
          5,
          5,
          6,
          6,
          6,
          5,
          5,
          5,
          5,
          5,
          5,
          6,
          6,
          6,
          5,
          4,
          5,
          4,
          6,
          6,
          6,
          6,
          6,
          8,
          6,
          6,
          5,
          5,
          6,
          6,
          4,
          6,
          6,
          7,
          6,
          6,
          6,
          6,
          5,
          5,
          6,
          5,
          5,
          5,
          5,
          6,
          6,
          4,
          6,
          5,
          5,
          6,
          6,
          3,
          6,
          6,
          6,
          5,
          5,
          5,
          5,
          4,
          5,
          5,
          5,
          6,
          5,
          6,
          6,
          6,
          6,
          6,
          6,
          6,
          5,
          6,
          5,
          7,
          6,
          6,
          6,
          6,
          5,
          6,
          6,
          5,
          6,
          5,
          5,
          6,
          5,
          5,
          5,
          6,
          6,
          6,
          6,
          6,
          5,
          6,
          5,
          5,
          5,
          5,
          5,
          6,
          5,
          5,
          5,
          5,
          5,
          6,
          5,
          6,
          5,
          5,
          6,
          4,
          6,
          5,
          5,
          6,
          6,
          4,
          5,
          6,
          5,
          5,
          3,
          5,
          5,
          6,
          6,
          6,
          6,
          5,
          5,
          5,
          5,
          5,
          5,
          5,
          5,
          5,
          6,
          5,
          5,
          5,
          5,
          6,
          5,
          5,
          7,
          6,
          5,
          5,
          6,
          8,
          6,
          7,
          6,
          6,
          7,
          6,
          6,
          6,
          6,
          5,
          5,
          5,
          5,
          7,
          5,
          5,
          5,
          5,
          6,
          4,
          6,
          6,
          6,
          5,
          5,
          5,
          5,
          6,
          6,
          7,
          6,
          6,
          5,
          5,
          5,
          6,
          7,
          6,
          5,
          5,
          6,
          6,
          5,
          5,
          5,
          8,
          7,
          7,
          7,
          5,
          6,
          6,
          6,
          5,
          5,
          7,
          6,
          4,
          6,
          6,
          5,
          5,
          7,
          4,
          7,
          3,
          5,
          5,
          6,
          5,
          5,
          7,
          5,
          7,
          3,
          5,
          4,
          5,
          4,
          5,
          4,
          5,
          5,
          5,
          5,
          6,
          6,
          5,
          5,
          5,
          7,
          6,
          5,
          6,
          6,
          6,
          5,
          5,
          5,
          6,
          6,
          3,
          6,
          6,
          6,
          5,
          6,
          5,
          6,
          6,
          6,
          6,
          5,
          6,
          5,
          5,
          6,
          4,
          5,
          5,
          6,
          5,
          6,
          6,
          6,
          6,
          6,
          5,
          6,
          5,
          7,
          6,
          6,
          6,
          5,
          5,
          6,
          7,
          6,
          6,
          7,
          6,
          5,
          5,
          5,
          8,
          5,
          5,
          6,
          5,
          6,
          7,
          5,
          6,
          5,
          5,
          5,
          5,
          5,
          5,
          5,
          6,
          6,
          5,
          5,
          6,
          6,
          6,
          5,
          6,
          6,
          6,
          6,
          6,
          6,
          5,
          6,
          5,
          5,
          5,
          7,
          6,
          6,
          6,
          6,
          5,
          6,
          6,
          6,
          6,
          5,
          6,
          6,
          5,
          6
         ],
         "xaxis": "x",
         "yaxis": "y"
        }
       ],
       "layout": {
        "barmode": "relative",
        "legend": {
         "tracegroupgap": 0
        },
        "margin": {
         "t": 60
        },
        "template": {
         "data": {
          "bar": [
           {
            "error_x": {
             "color": "#2a3f5f"
            },
            "error_y": {
             "color": "#2a3f5f"
            },
            "marker": {
             "line": {
              "color": "#E5ECF6",
              "width": 0.5
             },
             "pattern": {
              "fillmode": "overlay",
              "size": 10,
              "solidity": 0.2
             }
            },
            "type": "bar"
           }
          ],
          "barpolar": [
           {
            "marker": {
             "line": {
              "color": "#E5ECF6",
              "width": 0.5
             },
             "pattern": {
              "fillmode": "overlay",
              "size": 10,
              "solidity": 0.2
             }
            },
            "type": "barpolar"
           }
          ],
          "carpet": [
           {
            "aaxis": {
             "endlinecolor": "#2a3f5f",
             "gridcolor": "white",
             "linecolor": "white",
             "minorgridcolor": "white",
             "startlinecolor": "#2a3f5f"
            },
            "baxis": {
             "endlinecolor": "#2a3f5f",
             "gridcolor": "white",
             "linecolor": "white",
             "minorgridcolor": "white",
             "startlinecolor": "#2a3f5f"
            },
            "type": "carpet"
           }
          ],
          "choropleth": [
           {
            "colorbar": {
             "outlinewidth": 0,
             "ticks": ""
            },
            "type": "choropleth"
           }
          ],
          "contour": [
           {
            "colorbar": {
             "outlinewidth": 0,
             "ticks": ""
            },
            "colorscale": [
             [
              0,
              "#0d0887"
             ],
             [
              0.1111111111111111,
              "#46039f"
             ],
             [
              0.2222222222222222,
              "#7201a8"
             ],
             [
              0.3333333333333333,
              "#9c179e"
             ],
             [
              0.4444444444444444,
              "#bd3786"
             ],
             [
              0.5555555555555556,
              "#d8576b"
             ],
             [
              0.6666666666666666,
              "#ed7953"
             ],
             [
              0.7777777777777778,
              "#fb9f3a"
             ],
             [
              0.8888888888888888,
              "#fdca26"
             ],
             [
              1,
              "#f0f921"
             ]
            ],
            "type": "contour"
           }
          ],
          "contourcarpet": [
           {
            "colorbar": {
             "outlinewidth": 0,
             "ticks": ""
            },
            "type": "contourcarpet"
           }
          ],
          "heatmap": [
           {
            "colorbar": {
             "outlinewidth": 0,
             "ticks": ""
            },
            "colorscale": [
             [
              0,
              "#0d0887"
             ],
             [
              0.1111111111111111,
              "#46039f"
             ],
             [
              0.2222222222222222,
              "#7201a8"
             ],
             [
              0.3333333333333333,
              "#9c179e"
             ],
             [
              0.4444444444444444,
              "#bd3786"
             ],
             [
              0.5555555555555556,
              "#d8576b"
             ],
             [
              0.6666666666666666,
              "#ed7953"
             ],
             [
              0.7777777777777778,
              "#fb9f3a"
             ],
             [
              0.8888888888888888,
              "#fdca26"
             ],
             [
              1,
              "#f0f921"
             ]
            ],
            "type": "heatmap"
           }
          ],
          "heatmapgl": [
           {
            "colorbar": {
             "outlinewidth": 0,
             "ticks": ""
            },
            "colorscale": [
             [
              0,
              "#0d0887"
             ],
             [
              0.1111111111111111,
              "#46039f"
             ],
             [
              0.2222222222222222,
              "#7201a8"
             ],
             [
              0.3333333333333333,
              "#9c179e"
             ],
             [
              0.4444444444444444,
              "#bd3786"
             ],
             [
              0.5555555555555556,
              "#d8576b"
             ],
             [
              0.6666666666666666,
              "#ed7953"
             ],
             [
              0.7777777777777778,
              "#fb9f3a"
             ],
             [
              0.8888888888888888,
              "#fdca26"
             ],
             [
              1,
              "#f0f921"
             ]
            ],
            "type": "heatmapgl"
           }
          ],
          "histogram": [
           {
            "marker": {
             "pattern": {
              "fillmode": "overlay",
              "size": 10,
              "solidity": 0.2
             }
            },
            "type": "histogram"
           }
          ],
          "histogram2d": [
           {
            "colorbar": {
             "outlinewidth": 0,
             "ticks": ""
            },
            "colorscale": [
             [
              0,
              "#0d0887"
             ],
             [
              0.1111111111111111,
              "#46039f"
             ],
             [
              0.2222222222222222,
              "#7201a8"
             ],
             [
              0.3333333333333333,
              "#9c179e"
             ],
             [
              0.4444444444444444,
              "#bd3786"
             ],
             [
              0.5555555555555556,
              "#d8576b"
             ],
             [
              0.6666666666666666,
              "#ed7953"
             ],
             [
              0.7777777777777778,
              "#fb9f3a"
             ],
             [
              0.8888888888888888,
              "#fdca26"
             ],
             [
              1,
              "#f0f921"
             ]
            ],
            "type": "histogram2d"
           }
          ],
          "histogram2dcontour": [
           {
            "colorbar": {
             "outlinewidth": 0,
             "ticks": ""
            },
            "colorscale": [
             [
              0,
              "#0d0887"
             ],
             [
              0.1111111111111111,
              "#46039f"
             ],
             [
              0.2222222222222222,
              "#7201a8"
             ],
             [
              0.3333333333333333,
              "#9c179e"
             ],
             [
              0.4444444444444444,
              "#bd3786"
             ],
             [
              0.5555555555555556,
              "#d8576b"
             ],
             [
              0.6666666666666666,
              "#ed7953"
             ],
             [
              0.7777777777777778,
              "#fb9f3a"
             ],
             [
              0.8888888888888888,
              "#fdca26"
             ],
             [
              1,
              "#f0f921"
             ]
            ],
            "type": "histogram2dcontour"
           }
          ],
          "mesh3d": [
           {
            "colorbar": {
             "outlinewidth": 0,
             "ticks": ""
            },
            "type": "mesh3d"
           }
          ],
          "parcoords": [
           {
            "line": {
             "colorbar": {
              "outlinewidth": 0,
              "ticks": ""
             }
            },
            "type": "parcoords"
           }
          ],
          "pie": [
           {
            "automargin": true,
            "type": "pie"
           }
          ],
          "scatter": [
           {
            "marker": {
             "colorbar": {
              "outlinewidth": 0,
              "ticks": ""
             }
            },
            "type": "scatter"
           }
          ],
          "scatter3d": [
           {
            "line": {
             "colorbar": {
              "outlinewidth": 0,
              "ticks": ""
             }
            },
            "marker": {
             "colorbar": {
              "outlinewidth": 0,
              "ticks": ""
             }
            },
            "type": "scatter3d"
           }
          ],
          "scattercarpet": [
           {
            "marker": {
             "colorbar": {
              "outlinewidth": 0,
              "ticks": ""
             }
            },
            "type": "scattercarpet"
           }
          ],
          "scattergeo": [
           {
            "marker": {
             "colorbar": {
              "outlinewidth": 0,
              "ticks": ""
             }
            },
            "type": "scattergeo"
           }
          ],
          "scattergl": [
           {
            "marker": {
             "colorbar": {
              "outlinewidth": 0,
              "ticks": ""
             }
            },
            "type": "scattergl"
           }
          ],
          "scattermapbox": [
           {
            "marker": {
             "colorbar": {
              "outlinewidth": 0,
              "ticks": ""
             }
            },
            "type": "scattermapbox"
           }
          ],
          "scatterpolar": [
           {
            "marker": {
             "colorbar": {
              "outlinewidth": 0,
              "ticks": ""
             }
            },
            "type": "scatterpolar"
           }
          ],
          "scatterpolargl": [
           {
            "marker": {
             "colorbar": {
              "outlinewidth": 0,
              "ticks": ""
             }
            },
            "type": "scatterpolargl"
           }
          ],
          "scatterternary": [
           {
            "marker": {
             "colorbar": {
              "outlinewidth": 0,
              "ticks": ""
             }
            },
            "type": "scatterternary"
           }
          ],
          "surface": [
           {
            "colorbar": {
             "outlinewidth": 0,
             "ticks": ""
            },
            "colorscale": [
             [
              0,
              "#0d0887"
             ],
             [
              0.1111111111111111,
              "#46039f"
             ],
             [
              0.2222222222222222,
              "#7201a8"
             ],
             [
              0.3333333333333333,
              "#9c179e"
             ],
             [
              0.4444444444444444,
              "#bd3786"
             ],
             [
              0.5555555555555556,
              "#d8576b"
             ],
             [
              0.6666666666666666,
              "#ed7953"
             ],
             [
              0.7777777777777778,
              "#fb9f3a"
             ],
             [
              0.8888888888888888,
              "#fdca26"
             ],
             [
              1,
              "#f0f921"
             ]
            ],
            "type": "surface"
           }
          ],
          "table": [
           {
            "cells": {
             "fill": {
              "color": "#EBF0F8"
             },
             "line": {
              "color": "white"
             }
            },
            "header": {
             "fill": {
              "color": "#C8D4E3"
             },
             "line": {
              "color": "white"
             }
            },
            "type": "table"
           }
          ]
         },
         "layout": {
          "annotationdefaults": {
           "arrowcolor": "#2a3f5f",
           "arrowhead": 0,
           "arrowwidth": 1
          },
          "autotypenumbers": "strict",
          "coloraxis": {
           "colorbar": {
            "outlinewidth": 0,
            "ticks": ""
           }
          },
          "colorscale": {
           "diverging": [
            [
             0,
             "#8e0152"
            ],
            [
             0.1,
             "#c51b7d"
            ],
            [
             0.2,
             "#de77ae"
            ],
            [
             0.3,
             "#f1b6da"
            ],
            [
             0.4,
             "#fde0ef"
            ],
            [
             0.5,
             "#f7f7f7"
            ],
            [
             0.6,
             "#e6f5d0"
            ],
            [
             0.7,
             "#b8e186"
            ],
            [
             0.8,
             "#7fbc41"
            ],
            [
             0.9,
             "#4d9221"
            ],
            [
             1,
             "#276419"
            ]
           ],
           "sequential": [
            [
             0,
             "#0d0887"
            ],
            [
             0.1111111111111111,
             "#46039f"
            ],
            [
             0.2222222222222222,
             "#7201a8"
            ],
            [
             0.3333333333333333,
             "#9c179e"
            ],
            [
             0.4444444444444444,
             "#bd3786"
            ],
            [
             0.5555555555555556,
             "#d8576b"
            ],
            [
             0.6666666666666666,
             "#ed7953"
            ],
            [
             0.7777777777777778,
             "#fb9f3a"
            ],
            [
             0.8888888888888888,
             "#fdca26"
            ],
            [
             1,
             "#f0f921"
            ]
           ],
           "sequentialminus": [
            [
             0,
             "#0d0887"
            ],
            [
             0.1111111111111111,
             "#46039f"
            ],
            [
             0.2222222222222222,
             "#7201a8"
            ],
            [
             0.3333333333333333,
             "#9c179e"
            ],
            [
             0.4444444444444444,
             "#bd3786"
            ],
            [
             0.5555555555555556,
             "#d8576b"
            ],
            [
             0.6666666666666666,
             "#ed7953"
            ],
            [
             0.7777777777777778,
             "#fb9f3a"
            ],
            [
             0.8888888888888888,
             "#fdca26"
            ],
            [
             1,
             "#f0f921"
            ]
           ]
          },
          "colorway": [
           "#636efa",
           "#EF553B",
           "#00cc96",
           "#ab63fa",
           "#FFA15A",
           "#19d3f3",
           "#FF6692",
           "#B6E880",
           "#FF97FF",
           "#FECB52"
          ],
          "font": {
           "color": "#2a3f5f"
          },
          "geo": {
           "bgcolor": "white",
           "lakecolor": "white",
           "landcolor": "#E5ECF6",
           "showlakes": true,
           "showland": true,
           "subunitcolor": "white"
          },
          "hoverlabel": {
           "align": "left"
          },
          "hovermode": "closest",
          "mapbox": {
           "style": "light"
          },
          "paper_bgcolor": "white",
          "plot_bgcolor": "#E5ECF6",
          "polar": {
           "angularaxis": {
            "gridcolor": "white",
            "linecolor": "white",
            "ticks": ""
           },
           "bgcolor": "#E5ECF6",
           "radialaxis": {
            "gridcolor": "white",
            "linecolor": "white",
            "ticks": ""
           }
          },
          "scene": {
           "xaxis": {
            "backgroundcolor": "#E5ECF6",
            "gridcolor": "white",
            "gridwidth": 2,
            "linecolor": "white",
            "showbackground": true,
            "ticks": "",
            "zerolinecolor": "white"
           },
           "yaxis": {
            "backgroundcolor": "#E5ECF6",
            "gridcolor": "white",
            "gridwidth": 2,
            "linecolor": "white",
            "showbackground": true,
            "ticks": "",
            "zerolinecolor": "white"
           },
           "zaxis": {
            "backgroundcolor": "#E5ECF6",
            "gridcolor": "white",
            "gridwidth": 2,
            "linecolor": "white",
            "showbackground": true,
            "ticks": "",
            "zerolinecolor": "white"
           }
          },
          "shapedefaults": {
           "line": {
            "color": "#2a3f5f"
           }
          },
          "ternary": {
           "aaxis": {
            "gridcolor": "white",
            "linecolor": "white",
            "ticks": ""
           },
           "baxis": {
            "gridcolor": "white",
            "linecolor": "white",
            "ticks": ""
           },
           "bgcolor": "#E5ECF6",
           "caxis": {
            "gridcolor": "white",
            "linecolor": "white",
            "ticks": ""
           }
          },
          "title": {
           "x": 0.05
          },
          "xaxis": {
           "automargin": true,
           "gridcolor": "white",
           "linecolor": "white",
           "ticks": "",
           "title": {
            "standoff": 15
           },
           "zerolinecolor": "white",
           "zerolinewidth": 2
          },
          "yaxis": {
           "automargin": true,
           "gridcolor": "white",
           "linecolor": "white",
           "ticks": "",
           "title": {
            "standoff": 15
           },
           "zerolinecolor": "white",
           "zerolinewidth": 2
          }
         }
        },
        "xaxis": {
         "anchor": "y",
         "domain": [
          0,
          1
         ],
         "title": {
          "text": "quality"
         }
        },
        "yaxis": {
         "anchor": "x",
         "domain": [
          0,
          1
         ],
         "title": {
          "text": "count"
         }
        }
       }
      },
      "text/html": [
       "<div>                            <div id=\"83891b01-1897-4468-9d68-59fbece7369b\" class=\"plotly-graph-div\" style=\"height:525px; width:100%;\"></div>            <script type=\"text/javascript\">                require([\"plotly\"], function(Plotly) {                    window.PLOTLYENV=window.PLOTLYENV || {};                                    if (document.getElementById(\"83891b01-1897-4468-9d68-59fbece7369b\")) {                    Plotly.newPlot(                        \"83891b01-1897-4468-9d68-59fbece7369b\",                        [{\"alignmentgroup\":\"True\",\"bingroup\":\"x\",\"hovertemplate\":\"quality=%{x}<br>count=%{y}<extra></extra>\",\"legendgroup\":\"\",\"marker\":{\"color\":\"#636efa\",\"pattern\":{\"shape\":\"\"}},\"name\":\"\",\"offsetgroup\":\"\",\"orientation\":\"v\",\"showlegend\":false,\"x\":[5.0,5.0,5.0,6.0,5.0,5.0,5.0,7.0,7.0,5.0,5.0,5.0,5.0,5.0,5.0,5.0,7.0,5.0,4.0,6.0,6.0,5.0,5.0,5.0,6.0,5.0,5.0,5.0,5.0,6.0,5.0,6.0,5.0,6.0,5.0,6.0,6.0,7.0,4.0,5.0,5.0,4.0,6.0,5.0,5.0,4.0,5.0,5.0,5.0,5.0,5.0,6.0,6.0,5.0,6.0,5.0,5.0,5.0,5.0,6.0,5.0,5.0,7.0,5.0,5.0,5.0,5.0,5.0,5.0,6.0,6.0,5.0,5.0,4.0,5.0,5.0,5.0,6.0,5.0,4.0,5.0,5.0,5.0,5.0,6.0,5.0,6.0,5.0,5.0,5.0,5.0,6.0,5.0,5.0,4.0,6.0,5.0,5.0,5.0,6.0,6.0,6.0,6.0,5.0,5.0,5.0,5.0,5.0,6.0,5.0,5.0,5.0,5.0,6.0,5.0,6.0,6.0,6.0,6.0,6.0,5.0,6.0,5.0,5.636420525657071,5.0,5.0,5.0,5.0,7.0,5.0,5.0,5.0,5.0,6.0,6.0,5.0,5.0,5.0,5.0,5.0,5.0,5.0,6.0,5.0,6.0,5.0,5.0,5.0,6.0,6.0,6.0,4.0,5.0,5.0,5.0,5.0,5.0,5.0,5.0,6.0,5.0,4.0,6.0,5.0,5.0,5.0,5.0,4.0,6.0,5.0,4.0,6.0,6.0,6.0,5.0,5.0,5.0,6.0,5.0,5.0,5.0,5.0,5.0,5.0,6.0,5.0,5.0,5.0,5.0,5.0,5.0,6.0,5.0,5.0,5.0,5.0,5.0,6.0,7.0,4.0,7.0,5.0,5.0,5.0,6.0,7.0,7.0,5.0,5.0,7.0,6.0,6.0,6.0,5.0,6.0,5.0,5.0,5.0,5.0,5.0,6.0,5.0,5.0,6.0,4.0,6.0,6.0,5.0,6.0,5.0,7.0,6.0,6.0,5.0,6.0,6.0,6.0,6.0,6.0,6.0,5.0,6.0,6.0,7.0,7.0,6.0,5.0,5.0,6.0,6.0,6.0,6.0,5.0,5.0,6.0,5.0,5.0,5.0,5.0,7.0,5.0,4.0,5.0,5.0,5.0,7.0,4.0,8.0,6.0,6.0,6.0,6.0,5.0,5.0,5.0,6.0,6.0,6.0,8.0,7.0,6.0,7.0,5.0,7.0,5.0,5.0,6.0,6.0,7.0,5.0,7.0,5.0,6.0,6.0,6.0,5.0,5.0,5.0,5.0,5.0,6.0,6.0,5.0,5.0,5.0,6.0,5.0,6.0,6.0,6.0,6.0,6.0,6.0,5.0,5.0,6.0,5.0,6.0,7.0,6.0,7.0,5.0,5.0,6.0,6.0,6.0,7.0,5.0,6.0,5.0,6.0,6.0,6.0,5.0,7.0,7.0,6.0,5.0,6.0,7.0,6.0,6.0,6.0,6.0,6.0,5.0,7.0,6.0,6.0,6.0,6.0,6.0,5.0,5.0,6.0,6.0,5.0,7.0,7.0,6.0,5.0,6.0,5.0,5.0,7.0,6.0,7.0,5.0,5.0,7.0,5.0,6.0,6.0,5.0,6.0,7.0,6.0,7.0,6.0,6.0,6.0,6.0,6.0,6.0,5.0,6.0,6.0,6.0,6.0,7.0,8.0,6.0,5.0,5.0,5.0,7.0,5.0,6.0,6.0,5.0,5.0,6.0,6.0,6.0,5.0,6.0,6.0,7.0,6.0,4.0,6.0,5.0,5.0,7.0,5.0,5.0,6.0,5.0,6.0,5.0,7.0,7.0,5.0,7.0,5.0,7.0,6.0,6.0,5.0,6.0,7.0,5.0,6.0,5.0,6.0,5.0,6.0,6.0,6.0,5.0,8.0,6.0,7.0,7.0,7.0,6.0,5.0,5.0,6.0,6.0,6.0,6.0,6.0,7.0,5.0,8.0,5.0,5.0,7.0,3.0,6.0,5.0,5.0,5.0,6.0,5.0,6.0,6.0,6.0,5.0,5.0,6.0,6.0,5.0,6.0,5.0,5.0,6.0,5.0,6.0,5.0,8.0,5.0,5.0,6.0,5.0,5.0,6.0,7.0,6.0,6.0,7.0,7.0,6.0,6.0,8.0,6.0,5.0,8.0,6.0,6.0,7.0,7.0,7.0,7.0,7.0,7.0,6.0,6.0,7.0,5.0,6.0,6.0,7.0,7.0,5.0,6.0,3.0,6.0,5.0,6.0,5.0,5.0,5.0,5.0,5.0,5.0,6.0,6.0,5.0,6.0,5.0,5.0,6.0,6.0,6.0,5.0,6.0,7.0,5.0,5.0,6.0,5.0,6.0,6.0,5.0,6.0,6.0,6.0,6.0,6.0,6.0,6.0,5.0,5.0,5.0,6.0,5.0,6.0,6.0,5.0,5.0,5.0,6.0,6.0,5.0,6.0,6.0,6.0,6.0,6.0,6.0,5.0,4.0,6.0,6.0,4.0,5.0,5.0,6.0,5.0,5.0,5.0,7.0,7.0,6.0,7.0,5.0,8.0,7.0,5.0,6.0,5.0,5.0,5.0,5.0,6.0,6.0,6.0,6.0,4.0,6.0,5.0,6.0,6.0,6.0,7.0,6.0,6.0,6.0,5.0,5.0,6.0,5.0,6.0,5.0,5.0,6.0,5.0,5.0,5.0,5.0,5.0,6.0,5.0,5.0,5.0,5.0,6.0,5.0,6.0,5.0,6.0,4.0,5.0,5.0,5.0,5.0,7.0,6.0,5.0,5.0,5.0,5.0,5.0,7.0,5.0,4.0,7.0,6.0,5.0,5.0,5.0,6.0,5.0,5.0,5.0,7.0,6.0,4.0,6.0,5.0,6.0,6.0,5.0,5.0,6.0,6.0,5.0,6.0,5.0,5.0,5.0,5.0,6.0,5.0,6.0,5.0,5.0,5.0,5.0,6.0,5.0,5.0,5.0,5.0,5.0,5.0,5.0,5.0,3.0,5.0,5.0,5.0,5.0,6.0,6.0,6.0,5.0,6.0,6.0,6.0,6.0,4.0,4.0,5.0,5.0,5.0,6.0,6.0,5.0,5.0,5.0,5.0,5.0,6.0,5.0,5.0,5.0,5.0,5.0,5.0,5.0,5.0,4.0,5.0,6.0,5.0,5.0,6.0,5.0,5.0,5.0,5.0,5.0,5.0,5.0,6.0,5.0,5.0,6.0,5.0,5.0,5.0,5.0,6.0,6.0,5.0,6.0,6.0,5.0,5.0,5.0,5.0,6.0,6.0,6.0,5.0,5.0,5.0,5.0,5.0,6.0,5.0,6.0,6.0,5.0,5.0,6.0,5.0,6.0,5.0,5.0,6.0,6.0,5.0,6.0,6.0,5.0,5.0,6.0,5.0,5.0,5.0,5.0,5.0,5.0,6.0,6.0,5.0,6.0,5.0,6.0,5.0,6.0,5.0,5.0,7.0,6.0,6.0,5.0,5.0,7.0,6.0,6.0,7.0,7.0,7.0,5.0,6.0,5.0,6.0,5.0,4.0,6.0,5.0,6.0,6.0,5.0,5.0,5.0,7.0,5.0,5.0,5.0,5.0,7.0,5.0,8.0,6.0,4.0,6.0,3.0,4.0,5.0,5.0,7.0,7.0,7.0,5.0,7.0,5.0,6.0,5.0,6.0,5.0,5.0,6.0,5.0,5.0,5.0,5.0,5.0,6.0,6.0,7.0,6.0,7.0,7.0,6.0,5.0,6.0,5.0,5.0,5.0,5.0,6.0,6.0,6.0,6.0,6.0,5.0,4.0,7.0,7.0,7.0,4.0,6.0,6.0,5.0,5.0,6.0,6.0,5.0,6.0,5.0,6.0,7.0,6.0,5.0,5.0,5.0,6.0,5.0,6.0,6.0,7.0,6.0,7.0,3.0,5.0,7.0,7.0,7.0,7.0,5.0,5.0,6.0,6.0,6.0,6.0,6.0,6.0,7.0,6.0,6.0,5.0,6.0,6.0,6.0,5.0,6.0,6.0,6.0,5.0,7.0,6.0,4.0,5.0,7.0,5.0,5.0,6.0,5.0,5.0,6.0,6.0,4.0,7.0,5.0,7.0,7.0,7.0,7.0,7.0,7.0,7.0,7.0,7.0,7.0,7.0,7.0,7.0,7.0,6.0,5.0,6.0,6.0,7.0,5.0,6.0,5.0,5.0,6.0,6.0,6.0,7.0,5.0,6.0,5.0,6.0,6.0,7.0,5.0,7.0,5.0,5.0,5.0,7.0,5.0,6.0,5.0,6.0,6.0,5.0,6.0,7.0,5.0,5.0,6.0,5.0,5.0,6.0,5.0,5.0,6.0,7.0,7.0,6.0,6.0,7.0,7.0,7.0,7.0,5.0,7.0,7.0,7.0,7.0,5.0,7.0,6.0,5.0,6.0,6.0,6.0,7.0,6.0,6.0,5.0,6.0,6.0,5.0,6.0,7.0,6.0,6.0,5.0,6.0,7.0,7.0,7.0,5.0,6.0,6.0,7.0,7.0,5.0,7.0,6.0,5.0,6.0,6.0,7.0,6.0,6.0,6.0,5.0,6.0,6.0,5.0,5.0,5.0,7.0,6.0,6.0,7.0,5.0,7.0,7.0,6.0,8.0,6.0,6.0,6.0,6.0,7.0,7.0,7.0,5.0,7.0,5.0,6.0,6.0,5.0,7.0,6.0,5.0,5.0,7.0,6.0,7.0,6.0,6.0,6.0,5.0,7.0,6.0,7.0,7.0,8.0,6.0,6.0,7.0,6.0,5.0,6.0,5.0,7.0,5.0,6.0,6.0,6.0,6.0,6.0,5.0,6.0,7.0,5.0,6.0,6.0,7.0,6.0,6.0,6.0,6.0,6.0,6.0,6.0,5.0,8.0,6.0,6.0,6.0,4.0,7.0,6.0,6.0,5.0,6.0,6.0,5.0,7.0,7.0,7.0,6.0,6.0,6.0,5.0,6.0,6.0,6.0,6.0,6.0,5.0,6.0,6.0,7.0,6.0,6.0,7.0,6.0,5.0,6.0,6.0,5.0,7.0,7.0,6.0,5.0,7.0,6.0,7.0,5.0,5.0,5.0,5.0,7.0,6.0,6.0,6.0,6.0,6.0,6.0,6.0,6.0,4.0,7.0,5.0,6.0,6.0,5.0,6.0,5.0,5.0,6.0,5.0,6.0,5.0,4.0,6.0,5.0,7.0,5.0,6.0,6.0,6.0,6.0,6.0,6.0,6.0,7.0,8.0,5.0,7.0,7.0,7.0,5.0,7.0,7.0,6.0,5.0,6.0,6.0,6.0,6.0,6.0,6.0,6.0,6.0,6.0,6.0,6.0,6.0,6.0,5.0,5.0,5.0,7.0,5.0,6.0,5.0,5.0,4.0,6.0,4.0,6.0,6.0,4.0,4.0,5.0,5.0,6.0,5.0,6.0,5.0,5.0,5.0,6.0,6.0,6.0,5.0,5.0,5.0,5.0,5.0,5.0,6.0,6.0,6.0,5.0,4.0,5.0,4.0,6.0,6.0,6.0,6.0,6.0,8.0,6.0,6.0,5.0,5.0,6.0,6.0,4.0,6.0,6.0,7.0,6.0,6.0,6.0,6.0,5.0,5.0,6.0,5.0,5.0,5.0,5.0,6.0,6.0,4.0,6.0,5.0,5.0,6.0,6.0,3.0,6.0,6.0,6.0,5.0,5.0,5.0,5.0,4.0,5.0,5.0,5.0,6.0,5.0,6.0,6.0,6.0,6.0,6.0,6.0,6.0,5.0,6.0,5.0,7.0,6.0,6.0,6.0,6.0,5.0,6.0,6.0,5.0,6.0,5.0,5.0,6.0,5.0,5.0,5.0,6.0,6.0,6.0,6.0,6.0,5.0,6.0,5.0,5.0,5.0,5.0,5.0,6.0,5.0,5.0,5.0,5.0,5.0,6.0,5.0,6.0,5.0,5.0,6.0,4.0,6.0,5.0,5.0,6.0,6.0,4.0,5.0,6.0,5.0,5.0,3.0,5.0,5.0,6.0,6.0,6.0,6.0,5.0,5.0,5.0,5.0,5.0,5.0,5.0,5.0,5.0,6.0,5.0,5.0,5.0,5.0,6.0,5.0,5.0,7.0,6.0,5.0,5.0,6.0,8.0,6.0,7.0,6.0,6.0,7.0,6.0,6.0,6.0,6.0,5.0,5.0,5.0,5.0,7.0,5.0,5.0,5.0,5.0,6.0,4.0,6.0,6.0,6.0,5.0,5.0,5.0,5.0,6.0,6.0,7.0,6.0,6.0,5.0,5.0,5.0,6.0,7.0,6.0,5.0,5.0,6.0,6.0,5.0,5.0,5.0,8.0,7.0,7.0,7.0,5.0,6.0,6.0,6.0,5.0,5.0,7.0,6.0,4.0,6.0,6.0,5.0,5.0,7.0,4.0,7.0,3.0,5.0,5.0,6.0,5.0,5.0,7.0,5.0,7.0,3.0,5.0,4.0,5.0,4.0,5.0,4.0,5.0,5.0,5.0,5.0,6.0,6.0,5.0,5.0,5.0,7.0,6.0,5.0,6.0,6.0,6.0,5.0,5.0,5.0,6.0,6.0,3.0,6.0,6.0,6.0,5.0,6.0,5.0,6.0,6.0,6.0,6.0,5.0,6.0,5.0,5.0,6.0,4.0,5.0,5.0,6.0,5.0,6.0,6.0,6.0,6.0,6.0,5.0,6.0,5.0,7.0,6.0,6.0,6.0,5.0,5.0,6.0,7.0,6.0,6.0,7.0,6.0,5.0,5.0,5.0,8.0,5.0,5.0,6.0,5.0,6.0,7.0,5.0,6.0,5.0,5.0,5.0,5.0,5.0,5.0,5.0,6.0,6.0,5.0,5.0,6.0,6.0,6.0,5.0,6.0,6.0,6.0,6.0,6.0,6.0,5.0,6.0,5.0,5.0,5.0,7.0,6.0,6.0,6.0,6.0,5.0,6.0,6.0,6.0,6.0,5.0,6.0,6.0,5.0,6.0],\"xaxis\":\"x\",\"yaxis\":\"y\",\"type\":\"histogram\"}],                        {\"template\":{\"data\":{\"bar\":[{\"error_x\":{\"color\":\"#2a3f5f\"},\"error_y\":{\"color\":\"#2a3f5f\"},\"marker\":{\"line\":{\"color\":\"#E5ECF6\",\"width\":0.5},\"pattern\":{\"fillmode\":\"overlay\",\"size\":10,\"solidity\":0.2}},\"type\":\"bar\"}],\"barpolar\":[{\"marker\":{\"line\":{\"color\":\"#E5ECF6\",\"width\":0.5},\"pattern\":{\"fillmode\":\"overlay\",\"size\":10,\"solidity\":0.2}},\"type\":\"barpolar\"}],\"carpet\":[{\"aaxis\":{\"endlinecolor\":\"#2a3f5f\",\"gridcolor\":\"white\",\"linecolor\":\"white\",\"minorgridcolor\":\"white\",\"startlinecolor\":\"#2a3f5f\"},\"baxis\":{\"endlinecolor\":\"#2a3f5f\",\"gridcolor\":\"white\",\"linecolor\":\"white\",\"minorgridcolor\":\"white\",\"startlinecolor\":\"#2a3f5f\"},\"type\":\"carpet\"}],\"choropleth\":[{\"colorbar\":{\"outlinewidth\":0,\"ticks\":\"\"},\"type\":\"choropleth\"}],\"contour\":[{\"colorbar\":{\"outlinewidth\":0,\"ticks\":\"\"},\"colorscale\":[[0.0,\"#0d0887\"],[0.1111111111111111,\"#46039f\"],[0.2222222222222222,\"#7201a8\"],[0.3333333333333333,\"#9c179e\"],[0.4444444444444444,\"#bd3786\"],[0.5555555555555556,\"#d8576b\"],[0.6666666666666666,\"#ed7953\"],[0.7777777777777778,\"#fb9f3a\"],[0.8888888888888888,\"#fdca26\"],[1.0,\"#f0f921\"]],\"type\":\"contour\"}],\"contourcarpet\":[{\"colorbar\":{\"outlinewidth\":0,\"ticks\":\"\"},\"type\":\"contourcarpet\"}],\"heatmap\":[{\"colorbar\":{\"outlinewidth\":0,\"ticks\":\"\"},\"colorscale\":[[0.0,\"#0d0887\"],[0.1111111111111111,\"#46039f\"],[0.2222222222222222,\"#7201a8\"],[0.3333333333333333,\"#9c179e\"],[0.4444444444444444,\"#bd3786\"],[0.5555555555555556,\"#d8576b\"],[0.6666666666666666,\"#ed7953\"],[0.7777777777777778,\"#fb9f3a\"],[0.8888888888888888,\"#fdca26\"],[1.0,\"#f0f921\"]],\"type\":\"heatmap\"}],\"heatmapgl\":[{\"colorbar\":{\"outlinewidth\":0,\"ticks\":\"\"},\"colorscale\":[[0.0,\"#0d0887\"],[0.1111111111111111,\"#46039f\"],[0.2222222222222222,\"#7201a8\"],[0.3333333333333333,\"#9c179e\"],[0.4444444444444444,\"#bd3786\"],[0.5555555555555556,\"#d8576b\"],[0.6666666666666666,\"#ed7953\"],[0.7777777777777778,\"#fb9f3a\"],[0.8888888888888888,\"#fdca26\"],[1.0,\"#f0f921\"]],\"type\":\"heatmapgl\"}],\"histogram\":[{\"marker\":{\"pattern\":{\"fillmode\":\"overlay\",\"size\":10,\"solidity\":0.2}},\"type\":\"histogram\"}],\"histogram2d\":[{\"colorbar\":{\"outlinewidth\":0,\"ticks\":\"\"},\"colorscale\":[[0.0,\"#0d0887\"],[0.1111111111111111,\"#46039f\"],[0.2222222222222222,\"#7201a8\"],[0.3333333333333333,\"#9c179e\"],[0.4444444444444444,\"#bd3786\"],[0.5555555555555556,\"#d8576b\"],[0.6666666666666666,\"#ed7953\"],[0.7777777777777778,\"#fb9f3a\"],[0.8888888888888888,\"#fdca26\"],[1.0,\"#f0f921\"]],\"type\":\"histogram2d\"}],\"histogram2dcontour\":[{\"colorbar\":{\"outlinewidth\":0,\"ticks\":\"\"},\"colorscale\":[[0.0,\"#0d0887\"],[0.1111111111111111,\"#46039f\"],[0.2222222222222222,\"#7201a8\"],[0.3333333333333333,\"#9c179e\"],[0.4444444444444444,\"#bd3786\"],[0.5555555555555556,\"#d8576b\"],[0.6666666666666666,\"#ed7953\"],[0.7777777777777778,\"#fb9f3a\"],[0.8888888888888888,\"#fdca26\"],[1.0,\"#f0f921\"]],\"type\":\"histogram2dcontour\"}],\"mesh3d\":[{\"colorbar\":{\"outlinewidth\":0,\"ticks\":\"\"},\"type\":\"mesh3d\"}],\"parcoords\":[{\"line\":{\"colorbar\":{\"outlinewidth\":0,\"ticks\":\"\"}},\"type\":\"parcoords\"}],\"pie\":[{\"automargin\":true,\"type\":\"pie\"}],\"scatter\":[{\"marker\":{\"colorbar\":{\"outlinewidth\":0,\"ticks\":\"\"}},\"type\":\"scatter\"}],\"scatter3d\":[{\"line\":{\"colorbar\":{\"outlinewidth\":0,\"ticks\":\"\"}},\"marker\":{\"colorbar\":{\"outlinewidth\":0,\"ticks\":\"\"}},\"type\":\"scatter3d\"}],\"scattercarpet\":[{\"marker\":{\"colorbar\":{\"outlinewidth\":0,\"ticks\":\"\"}},\"type\":\"scattercarpet\"}],\"scattergeo\":[{\"marker\":{\"colorbar\":{\"outlinewidth\":0,\"ticks\":\"\"}},\"type\":\"scattergeo\"}],\"scattergl\":[{\"marker\":{\"colorbar\":{\"outlinewidth\":0,\"ticks\":\"\"}},\"type\":\"scattergl\"}],\"scattermapbox\":[{\"marker\":{\"colorbar\":{\"outlinewidth\":0,\"ticks\":\"\"}},\"type\":\"scattermapbox\"}],\"scatterpolar\":[{\"marker\":{\"colorbar\":{\"outlinewidth\":0,\"ticks\":\"\"}},\"type\":\"scatterpolar\"}],\"scatterpolargl\":[{\"marker\":{\"colorbar\":{\"outlinewidth\":0,\"ticks\":\"\"}},\"type\":\"scatterpolargl\"}],\"scatterternary\":[{\"marker\":{\"colorbar\":{\"outlinewidth\":0,\"ticks\":\"\"}},\"type\":\"scatterternary\"}],\"surface\":[{\"colorbar\":{\"outlinewidth\":0,\"ticks\":\"\"},\"colorscale\":[[0.0,\"#0d0887\"],[0.1111111111111111,\"#46039f\"],[0.2222222222222222,\"#7201a8\"],[0.3333333333333333,\"#9c179e\"],[0.4444444444444444,\"#bd3786\"],[0.5555555555555556,\"#d8576b\"],[0.6666666666666666,\"#ed7953\"],[0.7777777777777778,\"#fb9f3a\"],[0.8888888888888888,\"#fdca26\"],[1.0,\"#f0f921\"]],\"type\":\"surface\"}],\"table\":[{\"cells\":{\"fill\":{\"color\":\"#EBF0F8\"},\"line\":{\"color\":\"white\"}},\"header\":{\"fill\":{\"color\":\"#C8D4E3\"},\"line\":{\"color\":\"white\"}},\"type\":\"table\"}]},\"layout\":{\"annotationdefaults\":{\"arrowcolor\":\"#2a3f5f\",\"arrowhead\":0,\"arrowwidth\":1},\"autotypenumbers\":\"strict\",\"coloraxis\":{\"colorbar\":{\"outlinewidth\":0,\"ticks\":\"\"}},\"colorscale\":{\"diverging\":[[0,\"#8e0152\"],[0.1,\"#c51b7d\"],[0.2,\"#de77ae\"],[0.3,\"#f1b6da\"],[0.4,\"#fde0ef\"],[0.5,\"#f7f7f7\"],[0.6,\"#e6f5d0\"],[0.7,\"#b8e186\"],[0.8,\"#7fbc41\"],[0.9,\"#4d9221\"],[1,\"#276419\"]],\"sequential\":[[0.0,\"#0d0887\"],[0.1111111111111111,\"#46039f\"],[0.2222222222222222,\"#7201a8\"],[0.3333333333333333,\"#9c179e\"],[0.4444444444444444,\"#bd3786\"],[0.5555555555555556,\"#d8576b\"],[0.6666666666666666,\"#ed7953\"],[0.7777777777777778,\"#fb9f3a\"],[0.8888888888888888,\"#fdca26\"],[1.0,\"#f0f921\"]],\"sequentialminus\":[[0.0,\"#0d0887\"],[0.1111111111111111,\"#46039f\"],[0.2222222222222222,\"#7201a8\"],[0.3333333333333333,\"#9c179e\"],[0.4444444444444444,\"#bd3786\"],[0.5555555555555556,\"#d8576b\"],[0.6666666666666666,\"#ed7953\"],[0.7777777777777778,\"#fb9f3a\"],[0.8888888888888888,\"#fdca26\"],[1.0,\"#f0f921\"]]},\"colorway\":[\"#636efa\",\"#EF553B\",\"#00cc96\",\"#ab63fa\",\"#FFA15A\",\"#19d3f3\",\"#FF6692\",\"#B6E880\",\"#FF97FF\",\"#FECB52\"],\"font\":{\"color\":\"#2a3f5f\"},\"geo\":{\"bgcolor\":\"white\",\"lakecolor\":\"white\",\"landcolor\":\"#E5ECF6\",\"showlakes\":true,\"showland\":true,\"subunitcolor\":\"white\"},\"hoverlabel\":{\"align\":\"left\"},\"hovermode\":\"closest\",\"mapbox\":{\"style\":\"light\"},\"paper_bgcolor\":\"white\",\"plot_bgcolor\":\"#E5ECF6\",\"polar\":{\"angularaxis\":{\"gridcolor\":\"white\",\"linecolor\":\"white\",\"ticks\":\"\"},\"bgcolor\":\"#E5ECF6\",\"radialaxis\":{\"gridcolor\":\"white\",\"linecolor\":\"white\",\"ticks\":\"\"}},\"scene\":{\"xaxis\":{\"backgroundcolor\":\"#E5ECF6\",\"gridcolor\":\"white\",\"gridwidth\":2,\"linecolor\":\"white\",\"showbackground\":true,\"ticks\":\"\",\"zerolinecolor\":\"white\"},\"yaxis\":{\"backgroundcolor\":\"#E5ECF6\",\"gridcolor\":\"white\",\"gridwidth\":2,\"linecolor\":\"white\",\"showbackground\":true,\"ticks\":\"\",\"zerolinecolor\":\"white\"},\"zaxis\":{\"backgroundcolor\":\"#E5ECF6\",\"gridcolor\":\"white\",\"gridwidth\":2,\"linecolor\":\"white\",\"showbackground\":true,\"ticks\":\"\",\"zerolinecolor\":\"white\"}},\"shapedefaults\":{\"line\":{\"color\":\"#2a3f5f\"}},\"ternary\":{\"aaxis\":{\"gridcolor\":\"white\",\"linecolor\":\"white\",\"ticks\":\"\"},\"baxis\":{\"gridcolor\":\"white\",\"linecolor\":\"white\",\"ticks\":\"\"},\"bgcolor\":\"#E5ECF6\",\"caxis\":{\"gridcolor\":\"white\",\"linecolor\":\"white\",\"ticks\":\"\"}},\"title\":{\"x\":0.05},\"xaxis\":{\"automargin\":true,\"gridcolor\":\"white\",\"linecolor\":\"white\",\"ticks\":\"\",\"title\":{\"standoff\":15},\"zerolinecolor\":\"white\",\"zerolinewidth\":2},\"yaxis\":{\"automargin\":true,\"gridcolor\":\"white\",\"linecolor\":\"white\",\"ticks\":\"\",\"title\":{\"standoff\":15},\"zerolinecolor\":\"white\",\"zerolinewidth\":2}}},\"xaxis\":{\"anchor\":\"y\",\"domain\":[0.0,1.0],\"title\":{\"text\":\"quality\"}},\"yaxis\":{\"anchor\":\"x\",\"domain\":[0.0,1.0],\"title\":{\"text\":\"count\"}},\"legend\":{\"tracegroupgap\":0},\"margin\":{\"t\":60},\"barmode\":\"relative\"},                        {\"responsive\": true}                    ).then(function(){\n",
       "                            \n",
       "var gd = document.getElementById('83891b01-1897-4468-9d68-59fbece7369b');\n",
       "var x = new MutationObserver(function (mutations, observer) {{\n",
       "        var display = window.getComputedStyle(gd).display;\n",
       "        if (!display || display === 'none') {{\n",
       "            console.log([gd, 'removed!']);\n",
       "            Plotly.purge(gd);\n",
       "            observer.disconnect();\n",
       "        }}\n",
       "}});\n",
       "\n",
       "// Listen for the removal of the full notebook cells\n",
       "var notebookContainer = gd.closest('#notebook-container');\n",
       "if (notebookContainer) {{\n",
       "    x.observe(notebookContainer, {childList: true});\n",
       "}}\n",
       "\n",
       "// Listen for the clearing of the current output cell\n",
       "var outputEl = gd.closest('.output');\n",
       "if (outputEl) {{\n",
       "    x.observe(outputEl, {childList: true});\n",
       "}}\n",
       "\n",
       "                        })                };                });            </script>        </div>"
      ]
     },
     "metadata": {},
     "output_type": "display_data"
    }
   ],
   "source": [
    "fig = px.histogram(df,x='quality')\n",
    "fig.show()"
   ]
  },
  {
   "cell_type": "markdown",
   "id": "9c511b2c",
   "metadata": {},
   "source": [
    "#### Correlation matrix"
   ]
  },
  {
   "cell_type": "code",
   "execution_count": 26,
   "id": "5cff5716",
   "metadata": {},
   "outputs": [
    {
     "data": {
      "text/plain": [
       "<AxesSubplot:>"
      ]
     },
     "execution_count": 26,
     "metadata": {},
     "output_type": "execute_result"
    },
    {
     "data": {
      "image/png": "[encoded data removed]",
      "text/plain": [
       "<Figure size 1080x720 with 2 Axes>"
      ]
     },
     "metadata": {
      "needs_background": "light"
     },
     "output_type": "display_data"
    }
   ],
   "source": [
    "corr = df.corr()\n",
    "plt.pyplot.subplots(figsize=(15,10))\n",
    "sns.heatmap(corr, xticklabels=corr.columns, yticklabels=corr.columns, annot=True, cmap=sns.diverging_palette(220, 20, as_cmap=True))"
   ]
  },
  {
   "cell_type": "markdown",
   "id": "fd92d089",
   "metadata": {},
   "source": [
    "* We can see some variables that are strongly correlated to *quality*. These variables might be the most important features in our machine learning model"
   ]
  },
  {
   "cell_type": "markdown",
   "id": "8df68a97",
   "metadata": {},
   "source": [
    "#### Converting to a classification problem"
   ]
  },
  {
   "cell_type": "code",
   "execution_count": 27,
   "id": "02e575e3",
   "metadata": {},
   "outputs": [],
   "source": [
    "df['goodquality'] = [1 if x >= 7 else 0 for x in df['quality']]\n",
    "\n",
    "X = df.drop(['quality','goodquality'], axis = 1)\n",
    "y = df['goodquality']"
   ]
  },
  {
   "cell_type": "markdown",
   "id": "a0e55659",
   "metadata": {},
   "source": [
    "* Defining the wine as 'good quality' if it had a quality score of 7 or higher"
   ]
  },
  {
   "cell_type": "code",
   "execution_count": 28,
   "id": "3f701598",
   "metadata": {},
   "outputs": [
    {
     "data": {
      "text/plain": [
       "0    1382\n",
       "1     217\n",
       "Name: goodquality, dtype: int64"
      ]
     },
     "execution_count": 28,
     "metadata": {},
     "output_type": "execute_result"
    }
   ],
   "source": [
    "df['goodquality'].value_counts()"
   ]
  },
  {
   "cell_type": "markdown",
   "id": "a6dcc2e1",
   "metadata": {},
   "source": [
    "* There are reasonable number of good quality wines"
   ]
  },
  {
   "cell_type": "markdown",
   "id": "77501196",
   "metadata": {},
   "source": [
    "#### Standardizing feature variables"
   ]
  },
  {
   "cell_type": "code",
   "execution_count": 29,
   "id": "9a97ad1e",
   "metadata": {},
   "outputs": [],
   "source": [
    "from sklearn.preprocessing import StandardScaler\n",
    "X_features = X\n",
    "X = StandardScaler().fit_transform(X)"
   ]
  },
  {
   "cell_type": "markdown",
   "id": "186670f8",
   "metadata": {},
   "source": [
    "#### Splitting Data"
   ]
  },
  {
   "cell_type": "code",
   "execution_count": 30,
   "id": "4f47fde2",
   "metadata": {},
   "outputs": [],
   "source": [
    "from sklearn.model_selection import train_test_split\n",
    "X_train, X_test, y_train, y_test = train_test_split(X, y, test_size=.25, random_state=0)"
   ]
  },
  {
   "cell_type": "markdown",
   "id": "e364df47",
   "metadata": {},
   "source": [
    "### Modelling"
   ]
  },
  {
   "cell_type": "markdown",
   "id": "3b609b1b",
   "metadata": {},
   "source": [
    "* We want to compare five different machine learning models namely Decision trees, Random forests, AdaBoost, Gradient Boost and XGBoost based on their accuracy"
   ]
  },
  {
   "cell_type": "markdown",
   "id": "58800edf",
   "metadata": {},
   "source": [
    "#### Model 1: Decision Tree"
   ]
  },
  {
   "cell_type": "code",
   "execution_count": 31,
   "id": "05ebce93",
   "metadata": {},
   "outputs": [
    {
     "name": "stdout",
     "output_type": "stream",
     "text": [
      "              precision    recall  f1-score   support\n",
      "\n",
      "           0       0.95      0.94      0.94       355\n",
      "           1       0.55      0.60      0.57        45\n",
      "\n",
      "    accuracy                           0.90       400\n",
      "   macro avg       0.75      0.77      0.76       400\n",
      "weighted avg       0.90      0.90      0.90       400\n",
      "\n"
     ]
    }
   ],
   "source": [
    "from sklearn.metrics import classification_report\n",
    "from sklearn.tree import DecisionTreeClassifier\n",
    "model1 = DecisionTreeClassifier(random_state=1)\n",
    "model1.fit(X_train, y_train)\n",
    "y_pred1 = model1.predict(X_test)\n",
    "print(classification_report(y_test, y_pred1))"
   ]
  },
  {
   "cell_type": "markdown",
   "id": "f6c36abe",
   "metadata": {},
   "source": [
    "#### Model 2: Random Forest"
   ]
  },
  {
   "cell_type": "code",
   "execution_count": 32,
   "id": "c46e3ad1",
   "metadata": {},
   "outputs": [
    {
     "name": "stdout",
     "output_type": "stream",
     "text": [
      "              precision    recall  f1-score   support\n",
      "\n",
      "           0       0.95      0.97      0.96       355\n",
      "           1       0.75      0.60      0.67        45\n",
      "\n",
      "    accuracy                           0.93       400\n",
      "   macro avg       0.85      0.79      0.81       400\n",
      "weighted avg       0.93      0.93      0.93       400\n",
      "\n"
     ]
    }
   ],
   "source": [
    "from sklearn.ensemble import RandomForestClassifier\n",
    "model2 = RandomForestClassifier(random_state=1)\n",
    "model2.fit(X_train, y_train)\n",
    "y_pred2 = model2.predict(X_test)\n",
    "print(classification_report(y_test, y_pred2))"
   ]
  },
  {
   "cell_type": "markdown",
   "id": "78aceb54",
   "metadata": {},
   "source": [
    "#### Model 3: AdaBoost"
   ]
  },
  {
   "cell_type": "code",
   "execution_count": 33,
   "id": "010bbdea",
   "metadata": {},
   "outputs": [
    {
     "name": "stdout",
     "output_type": "stream",
     "text": [
      "              precision    recall  f1-score   support\n",
      "\n",
      "           0       0.94      0.93      0.93       355\n",
      "           1       0.48      0.49      0.48        45\n",
      "\n",
      "    accuracy                           0.88       400\n",
      "   macro avg       0.71      0.71      0.71       400\n",
      "weighted avg       0.88      0.88      0.88       400\n",
      "\n"
     ]
    }
   ],
   "source": [
    "from sklearn.ensemble import AdaBoostClassifier\n",
    "model3 = AdaBoostClassifier(random_state=1)\n",
    "model3.fit(X_train, y_train)\n",
    "y_pred3 = model3.predict(X_test)\n",
    "print(classification_report(y_test, y_pred3))"
   ]
  },
  {
   "cell_type": "markdown",
   "id": "56f9fa85",
   "metadata": {},
   "source": [
    "#### Model 4: Gradient Boosting"
   ]
  },
  {
   "cell_type": "code",
   "execution_count": 34,
   "id": "b831d315",
   "metadata": {},
   "outputs": [
    {
     "name": "stdout",
     "output_type": "stream",
     "text": [
      "              precision    recall  f1-score   support\n",
      "\n",
      "           0       0.94      0.95      0.95       355\n",
      "           1       0.59      0.53      0.56        45\n",
      "\n",
      "    accuracy                           0.91       400\n",
      "   macro avg       0.76      0.74      0.75       400\n",
      "weighted avg       0.90      0.91      0.90       400\n",
      "\n"
     ]
    }
   ],
   "source": [
    "from sklearn.ensemble import GradientBoostingClassifier\n",
    "model4 = GradientBoostingClassifier(random_state=1)\n",
    "model4.fit(X_train, y_train)\n",
    "y_pred4 = model4.predict(X_test)\n",
    "print(classification_report(y_test, y_pred4))"
   ]
  },
  {
   "cell_type": "markdown",
   "id": "024bb31c",
   "metadata": {},
   "source": [
    "#### Model 5: XGBoost"
   ]
  },
  {
   "cell_type": "code",
   "execution_count": 35,
   "id": "fc3b018f",
   "metadata": {},
   "outputs": [
    {
     "name": "stdout",
     "output_type": "stream",
     "text": [
      "[23:35:21] WARNING: C:\\Windows\\Temp\\abs_557yfx631l\\croots\\recipe\\xgboost-split_1659548953302\\work\\src\\learner.cc:1115: Starting in XGBoost 1.3.0, the default evaluation metric used with the objective 'binary:logistic' was changed from 'error' to 'logloss'. Explicitly set eval_metric if you'd like to restore the old behavior.\n",
      "              precision    recall  f1-score   support\n",
      "\n",
      "           0       0.96      0.94      0.95       355\n",
      "           1       0.60      0.69      0.64        45\n",
      "\n",
      "    accuracy                           0.91       400\n",
      "   macro avg       0.78      0.81      0.79       400\n",
      "weighted avg       0.92      0.91      0.92       400\n",
      "\n"
     ]
    }
   ],
   "source": [
    "import xgboost as xgb\n",
    "model5 = xgb.XGBClassifier(random_state=1)\n",
    "model5.fit(X_train, y_train)\n",
    "y_pred5 = model5.predict(X_test)\n",
    "print(classification_report(y_test, y_pred5))"
   ]
  },
  {
   "cell_type": "markdown",
   "id": "f69b43d9",
   "metadata": {},
   "source": [
    "* After comparing the five models, the **Random Forest** seems to yield the highest accuracy and has a better f1-score for predicting good quality wines (1) compared to other models"
   ]
  },
  {
   "cell_type": "markdown",
   "id": "802abf30",
   "metadata": {},
   "source": [
    "#### Feature Importance"
   ]
  },
  {
   "cell_type": "code",
   "execution_count": 36,
   "id": "ab13607c",
   "metadata": {},
   "outputs": [
    {
     "data": {
      "text/plain": [
       "<AxesSubplot:>"
      ]
     },
     "execution_count": 36,
     "metadata": {},
     "output_type": "execute_result"
    },
    {
     "data": {
      "image/png": "[encoded data removed]",
      "text/plain": [
       "<Figure size 720x720 with 1 Axes>"
      ]
     },
     "metadata": {
      "needs_background": "light"
     },
     "output_type": "display_data"
    }
   ],
   "source": [
    "feat_importances = pd.Series(model2.feature_importances_, index=X_features.columns)\n",
    "feat_importances.nlargest(25).plot(kind='barh',figsize=(10,10))"
   ]
  },
  {
   "cell_type": "markdown",
   "id": "e9a497b5",
   "metadata": {},
   "source": [
    "* The top 3 features are **alcohol**, **volatile acidity** and **sulphates**"
   ]
  },
  {
   "cell_type": "markdown",
   "id": "d0cee4b8",
   "metadata": {},
   "source": [
    "#### Comparing the top features"
   ]
  },
  {
   "cell_type": "code",
   "execution_count": 37,
   "id": "8f67f2de",
   "metadata": {},
   "outputs": [
    {
     "data": {
      "text/html": [
       "<div>\n",
       "<style scoped>\n",
       "    .dataframe tbody tr th:only-of-type {\n",
       "        vertical-align: middle;\n",
       "    }\n",
       "\n",
       "    .dataframe tbody tr th {\n",
       "        vertical-align: top;\n",
       "    }\n",
       "\n",
       "    .dataframe thead th {\n",
       "        text-align: right;\n",
       "    }\n",
       "</style>\n",
       "<table border=\"1\" class=\"dataframe\">\n",
       "  <thead>\n",
       "    <tr style=\"text-align: right;\">\n",
       "      <th></th>\n",
       "      <th>fixed acidity</th>\n",
       "      <th>volatile acidity</th>\n",
       "      <th>citric acid</th>\n",
       "      <th>residual sugar</th>\n",
       "      <th>chlorides</th>\n",
       "      <th>free sulfur dioxide</th>\n",
       "      <th>total sulfur dioxide</th>\n",
       "      <th>density</th>\n",
       "      <th>pH</th>\n",
       "      <th>sulphates</th>\n",
       "      <th>alcohol</th>\n",
       "      <th>quality</th>\n",
       "      <th>goodquality</th>\n",
       "    </tr>\n",
       "  </thead>\n",
       "  <tbody>\n",
       "    <tr>\n",
       "      <th>count</th>\n",
       "      <td>217.000000</td>\n",
       "      <td>217.000000</td>\n",
       "      <td>217.000000</td>\n",
       "      <td>217.000000</td>\n",
       "      <td>217.000000</td>\n",
       "      <td>217.000000</td>\n",
       "      <td>217.000000</td>\n",
       "      <td>217.000000</td>\n",
       "      <td>217.000000</td>\n",
       "      <td>217.000000</td>\n",
       "      <td>217.000000</td>\n",
       "      <td>217.000000</td>\n",
       "      <td>217.0</td>\n",
       "    </tr>\n",
       "    <tr>\n",
       "      <th>mean</th>\n",
       "      <td>8.847005</td>\n",
       "      <td>0.405530</td>\n",
       "      <td>0.376498</td>\n",
       "      <td>2.708756</td>\n",
       "      <td>0.075912</td>\n",
       "      <td>13.981567</td>\n",
       "      <td>34.889401</td>\n",
       "      <td>0.996030</td>\n",
       "      <td>3.515207</td>\n",
       "      <td>0.743456</td>\n",
       "      <td>11.518049</td>\n",
       "      <td>7.082949</td>\n",
       "      <td>1.0</td>\n",
       "    </tr>\n",
       "    <tr>\n",
       "      <th>std</th>\n",
       "      <td>1.999977</td>\n",
       "      <td>0.144963</td>\n",
       "      <td>0.194438</td>\n",
       "      <td>1.363026</td>\n",
       "      <td>0.028480</td>\n",
       "      <td>10.234615</td>\n",
       "      <td>32.572238</td>\n",
       "      <td>0.002201</td>\n",
       "      <td>0.030400</td>\n",
       "      <td>0.134038</td>\n",
       "      <td>0.998153</td>\n",
       "      <td>0.276443</td>\n",
       "      <td>0.0</td>\n",
       "    </tr>\n",
       "    <tr>\n",
       "      <th>min</th>\n",
       "      <td>4.900000</td>\n",
       "      <td>0.120000</td>\n",
       "      <td>0.000000</td>\n",
       "      <td>1.200000</td>\n",
       "      <td>0.012000</td>\n",
       "      <td>3.000000</td>\n",
       "      <td>7.000000</td>\n",
       "      <td>0.990640</td>\n",
       "      <td>3.230000</td>\n",
       "      <td>0.390000</td>\n",
       "      <td>9.200000</td>\n",
       "      <td>7.000000</td>\n",
       "      <td>1.0</td>\n",
       "    </tr>\n",
       "    <tr>\n",
       "      <th>25%</th>\n",
       "      <td>7.400000</td>\n",
       "      <td>0.300000</td>\n",
       "      <td>0.300000</td>\n",
       "      <td>2.000000</td>\n",
       "      <td>0.062000</td>\n",
       "      <td>6.000000</td>\n",
       "      <td>17.000000</td>\n",
       "      <td>0.994700</td>\n",
       "      <td>3.520000</td>\n",
       "      <td>0.650000</td>\n",
       "      <td>10.800000</td>\n",
       "      <td>7.000000</td>\n",
       "      <td>1.0</td>\n",
       "    </tr>\n",
       "    <tr>\n",
       "      <th>50%</th>\n",
       "      <td>8.700000</td>\n",
       "      <td>0.370000</td>\n",
       "      <td>0.400000</td>\n",
       "      <td>2.300000</td>\n",
       "      <td>0.073000</td>\n",
       "      <td>11.000000</td>\n",
       "      <td>27.000000</td>\n",
       "      <td>0.995720</td>\n",
       "      <td>3.520000</td>\n",
       "      <td>0.740000</td>\n",
       "      <td>11.600000</td>\n",
       "      <td>7.000000</td>\n",
       "      <td>1.0</td>\n",
       "    </tr>\n",
       "    <tr>\n",
       "      <th>75%</th>\n",
       "      <td>10.100000</td>\n",
       "      <td>0.490000</td>\n",
       "      <td>0.490000</td>\n",
       "      <td>2.700000</td>\n",
       "      <td>0.085000</td>\n",
       "      <td>18.000000</td>\n",
       "      <td>43.000000</td>\n",
       "      <td>0.997350</td>\n",
       "      <td>3.520000</td>\n",
       "      <td>0.820000</td>\n",
       "      <td>12.200000</td>\n",
       "      <td>7.000000</td>\n",
       "      <td>1.0</td>\n",
       "    </tr>\n",
       "    <tr>\n",
       "      <th>max</th>\n",
       "      <td>15.600000</td>\n",
       "      <td>0.915000</td>\n",
       "      <td>0.760000</td>\n",
       "      <td>8.900000</td>\n",
       "      <td>0.358000</td>\n",
       "      <td>54.000000</td>\n",
       "      <td>289.000000</td>\n",
       "      <td>1.003200</td>\n",
       "      <td>3.520000</td>\n",
       "      <td>1.360000</td>\n",
       "      <td>14.000000</td>\n",
       "      <td>8.000000</td>\n",
       "      <td>1.0</td>\n",
       "    </tr>\n",
       "  </tbody>\n",
       "</table>\n",
       "</div>"
      ],
      "text/plain": [
       "       fixed acidity  volatile acidity  citric acid  residual sugar  \\\n",
       "count     217.000000        217.000000   217.000000      217.000000   \n",
       "mean        8.847005          0.405530     0.376498        2.708756   \n",
       "std         1.999977          0.144963     0.194438        1.363026   \n",
       "min         4.900000          0.120000     0.000000        1.200000   \n",
       "25%         7.400000          0.300000     0.300000        2.000000   \n",
       "50%         8.700000          0.370000     0.400000        2.300000   \n",
       "75%        10.100000          0.490000     0.490000        2.700000   \n",
       "max        15.600000          0.915000     0.760000        8.900000   \n",
       "\n",
       "        chlorides  free sulfur dioxide  total sulfur dioxide     density  \\\n",
       "count  217.000000           217.000000            217.000000  217.000000   \n",
       "mean     0.075912            13.981567             34.889401    0.996030   \n",
       "std      0.028480            10.234615             32.572238    0.002201   \n",
       "min      0.012000             3.000000              7.000000    0.990640   \n",
       "25%      0.062000             6.000000             17.000000    0.994700   \n",
       "50%      0.073000            11.000000             27.000000    0.995720   \n",
       "75%      0.085000            18.000000             43.000000    0.997350   \n",
       "max      0.358000            54.000000            289.000000    1.003200   \n",
       "\n",
       "               pH   sulphates     alcohol     quality  goodquality  \n",
       "count  217.000000  217.000000  217.000000  217.000000        217.0  \n",
       "mean     3.515207    0.743456   11.518049    7.082949          1.0  \n",
       "std      0.030400    0.134038    0.998153    0.276443          0.0  \n",
       "min      3.230000    0.390000    9.200000    7.000000          1.0  \n",
       "25%      3.520000    0.650000   10.800000    7.000000          1.0  \n",
       "50%      3.520000    0.740000   11.600000    7.000000          1.0  \n",
       "75%      3.520000    0.820000   12.200000    7.000000          1.0  \n",
       "max      3.520000    1.360000   14.000000    8.000000          1.0  "
      ]
     },
     "execution_count": 37,
     "metadata": {},
     "output_type": "execute_result"
    }
   ],
   "source": [
    "# Filtering df for only good quality\n",
    "df_temp = df[df['goodquality']==1]\n",
    "df_temp.describe()"
   ]
  },
  {
   "cell_type": "code",
   "execution_count": 38,
   "id": "bcd7f9ea",
   "metadata": {},
   "outputs": [
    {
     "data": {
      "text/html": [
       "<div>\n",
       "<style scoped>\n",
       "    .dataframe tbody tr th:only-of-type {\n",
       "        vertical-align: middle;\n",
       "    }\n",
       "\n",
       "    .dataframe tbody tr th {\n",
       "        vertical-align: top;\n",
       "    }\n",
       "\n",
       "    .dataframe thead th {\n",
       "        text-align: right;\n",
       "    }\n",
       "</style>\n",
       "<table border=\"1\" class=\"dataframe\">\n",
       "  <thead>\n",
       "    <tr style=\"text-align: right;\">\n",
       "      <th></th>\n",
       "      <th>fixed acidity</th>\n",
       "      <th>volatile acidity</th>\n",
       "      <th>citric acid</th>\n",
       "      <th>residual sugar</th>\n",
       "      <th>chlorides</th>\n",
       "      <th>free sulfur dioxide</th>\n",
       "      <th>total sulfur dioxide</th>\n",
       "      <th>density</th>\n",
       "      <th>pH</th>\n",
       "      <th>sulphates</th>\n",
       "      <th>alcohol</th>\n",
       "      <th>quality</th>\n",
       "      <th>goodquality</th>\n",
       "    </tr>\n",
       "  </thead>\n",
       "  <tbody>\n",
       "    <tr>\n",
       "      <th>count</th>\n",
       "      <td>1382.000000</td>\n",
       "      <td>1382.000000</td>\n",
       "      <td>1382.000000</td>\n",
       "      <td>1382.000000</td>\n",
       "      <td>1382.000000</td>\n",
       "      <td>1382.000000</td>\n",
       "      <td>1382.000000</td>\n",
       "      <td>1382.000000</td>\n",
       "      <td>1382.000000</td>\n",
       "      <td>1382.000000</td>\n",
       "      <td>1382.000000</td>\n",
       "      <td>1382.000000</td>\n",
       "      <td>1382.0</td>\n",
       "    </tr>\n",
       "    <tr>\n",
       "      <th>mean</th>\n",
       "      <td>8.236831</td>\n",
       "      <td>0.547022</td>\n",
       "      <td>0.254407</td>\n",
       "      <td>2.512120</td>\n",
       "      <td>0.089281</td>\n",
       "      <td>16.172214</td>\n",
       "      <td>48.245610</td>\n",
       "      <td>0.996859</td>\n",
       "      <td>3.495976</td>\n",
       "      <td>0.644754</td>\n",
       "      <td>10.251037</td>\n",
       "      <td>5.409288</td>\n",
       "      <td>0.0</td>\n",
       "    </tr>\n",
       "    <tr>\n",
       "      <th>std</th>\n",
       "      <td>1.682726</td>\n",
       "      <td>0.176337</td>\n",
       "      <td>0.189665</td>\n",
       "      <td>1.415778</td>\n",
       "      <td>0.049113</td>\n",
       "      <td>10.467685</td>\n",
       "      <td>32.553544</td>\n",
       "      <td>0.001808</td>\n",
       "      <td>0.085267</td>\n",
       "      <td>0.170629</td>\n",
       "      <td>0.969664</td>\n",
       "      <td>0.601649</td>\n",
       "      <td>0.0</td>\n",
       "    </tr>\n",
       "    <tr>\n",
       "      <th>min</th>\n",
       "      <td>4.600000</td>\n",
       "      <td>0.160000</td>\n",
       "      <td>0.000000</td>\n",
       "      <td>0.900000</td>\n",
       "      <td>0.034000</td>\n",
       "      <td>1.000000</td>\n",
       "      <td>6.000000</td>\n",
       "      <td>0.990070</td>\n",
       "      <td>2.740000</td>\n",
       "      <td>0.330000</td>\n",
       "      <td>8.400000</td>\n",
       "      <td>3.000000</td>\n",
       "      <td>0.0</td>\n",
       "    </tr>\n",
       "    <tr>\n",
       "      <th>25%</th>\n",
       "      <td>7.100000</td>\n",
       "      <td>0.420000</td>\n",
       "      <td>0.082500</td>\n",
       "      <td>1.900000</td>\n",
       "      <td>0.071000</td>\n",
       "      <td>8.000000</td>\n",
       "      <td>23.000000</td>\n",
       "      <td>0.995785</td>\n",
       "      <td>3.520000</td>\n",
       "      <td>0.540000</td>\n",
       "      <td>9.500000</td>\n",
       "      <td>5.000000</td>\n",
       "      <td>0.0</td>\n",
       "    </tr>\n",
       "    <tr>\n",
       "      <th>50%</th>\n",
       "      <td>7.800000</td>\n",
       "      <td>0.540000</td>\n",
       "      <td>0.240000</td>\n",
       "      <td>2.200000</td>\n",
       "      <td>0.080000</td>\n",
       "      <td>14.000000</td>\n",
       "      <td>39.500000</td>\n",
       "      <td>0.996800</td>\n",
       "      <td>3.520000</td>\n",
       "      <td>0.600000</td>\n",
       "      <td>10.000000</td>\n",
       "      <td>5.000000</td>\n",
       "      <td>0.0</td>\n",
       "    </tr>\n",
       "    <tr>\n",
       "      <th>75%</th>\n",
       "      <td>9.100000</td>\n",
       "      <td>0.650000</td>\n",
       "      <td>0.400000</td>\n",
       "      <td>2.600000</td>\n",
       "      <td>0.091000</td>\n",
       "      <td>22.000000</td>\n",
       "      <td>65.000000</td>\n",
       "      <td>0.997900</td>\n",
       "      <td>3.520000</td>\n",
       "      <td>0.700000</td>\n",
       "      <td>10.900000</td>\n",
       "      <td>6.000000</td>\n",
       "      <td>0.0</td>\n",
       "    </tr>\n",
       "    <tr>\n",
       "      <th>max</th>\n",
       "      <td>15.900000</td>\n",
       "      <td>1.580000</td>\n",
       "      <td>1.000000</td>\n",
       "      <td>15.500000</td>\n",
       "      <td>0.611000</td>\n",
       "      <td>72.000000</td>\n",
       "      <td>165.000000</td>\n",
       "      <td>1.003690</td>\n",
       "      <td>3.900000</td>\n",
       "      <td>2.000000</td>\n",
       "      <td>14.900000</td>\n",
       "      <td>6.000000</td>\n",
       "      <td>0.0</td>\n",
       "    </tr>\n",
       "  </tbody>\n",
       "</table>\n",
       "</div>"
      ],
      "text/plain": [
       "       fixed acidity  volatile acidity  citric acid  residual sugar  \\\n",
       "count    1382.000000       1382.000000  1382.000000     1382.000000   \n",
       "mean        8.236831          0.547022     0.254407        2.512120   \n",
       "std         1.682726          0.176337     0.189665        1.415778   \n",
       "min         4.600000          0.160000     0.000000        0.900000   \n",
       "25%         7.100000          0.420000     0.082500        1.900000   \n",
       "50%         7.800000          0.540000     0.240000        2.200000   \n",
       "75%         9.100000          0.650000     0.400000        2.600000   \n",
       "max        15.900000          1.580000     1.000000       15.500000   \n",
       "\n",
       "         chlorides  free sulfur dioxide  total sulfur dioxide      density  \\\n",
       "count  1382.000000          1382.000000           1382.000000  1382.000000   \n",
       "mean      0.089281            16.172214             48.245610     0.996859   \n",
       "std       0.049113            10.467685             32.553544     0.001808   \n",
       "min       0.034000             1.000000              6.000000     0.990070   \n",
       "25%       0.071000             8.000000             23.000000     0.995785   \n",
       "50%       0.080000            14.000000             39.500000     0.996800   \n",
       "75%       0.091000            22.000000             65.000000     0.997900   \n",
       "max       0.611000            72.000000            165.000000     1.003690   \n",
       "\n",
       "                pH    sulphates      alcohol      quality  goodquality  \n",
       "count  1382.000000  1382.000000  1382.000000  1382.000000       1382.0  \n",
       "mean      3.495976     0.644754    10.251037     5.409288          0.0  \n",
       "std       0.085267     0.170629     0.969664     0.601649          0.0  \n",
       "min       2.740000     0.330000     8.400000     3.000000          0.0  \n",
       "25%       3.520000     0.540000     9.500000     5.000000          0.0  \n",
       "50%       3.520000     0.600000    10.000000     5.000000          0.0  \n",
       "75%       3.520000     0.700000    10.900000     6.000000          0.0  \n",
       "max       3.900000     2.000000    14.900000     6.000000          0.0  "
      ]
     },
     "execution_count": 38,
     "metadata": {},
     "output_type": "execute_result"
    }
   ],
   "source": [
    "# Filtering df for only bad quality\n",
    "df_temp2 = df[df['goodquality']==0]\n",
    "df_temp2.describe()"
   ]
  },
  {
   "cell_type": "markdown",
   "id": "57cc180e",
   "metadata": {},
   "source": [
    "## Conclusion"
   ]
  },
  {
   "cell_type": "markdown",
   "id": "55f89a42",
   "metadata": {},
   "source": [
    "*Out of the five models, **Random Forest** seems to yield the highest accuracy and we can see that good quality wines have higher levels of **alcohol** on average, lower **volatile acidity** on average and higher levels of **sulphates** on average.*"
   ]
  }
 ],
 "metadata": {
  "kernelspec": {
   "display_name": "Python 3 (ipykernel)",
   "language": "python",
   "name": "python3"
  },
  "language_info": {
   "codemirror_mode": {
    "name": "ipython",
    "version": 3
   },
   "file_extension": ".py",
   "mimetype": "text/x-python",
   "name": "python",
   "nbconvert_exporter": "python",
   "pygments_lexer": "ipython3",
   "version": "3.9.12"
  }
 },
 "nbformat": 4,
 "nbformat_minor": 5
}
